{
 "cells": [
  {
   "cell_type": "markdown",
   "metadata": {},
   "source": [
    "### Competition 1###"
   ]
  },
  {
   "cell_type": "markdown",
   "metadata": {},
   "source": [
    "### Question ### "
   ]
  },
  {
   "cell_type": "markdown",
   "metadata": {},
   "source": [
    "In this competition we were trying to gain understanding and successful application of \"Adavanced Preperation of Financial Data\". We were trying to work out what factors affected the difference between the IPO of certain stocks versus there price at close on day one of the stock trading. "
   ]
  },
  {
   "cell_type": "markdown",
   "metadata": {},
   "source": [
    "### Steps Taken ### "
   ]
  },
  {
   "cell_type": "markdown",
   "metadata": {},
   "source": [
    "**Re-Coded Column Names**\n",
    "    We took the initial names of the columns and changed them to reflect their actual names. This was done via the use of the data dictionary. At this stage we also decided to drop the industry classifier for a couple of reasons. At this stage in the process we believed that they wouldn't be extremely helpful.\n",
    "    \n",
    "**Figured out the # of dashes in each column**\n",
    "    We ran some queries to understand how many dashes were in each column. At that point we were unsure wether to use the mean or the median value. We decided to go with the median value and created a new DataFrame with this in use. \n",
    "    \n",
    "**define and apply functions to calculate target variables per the data dictionary**\n",
    "    Wrote the code which was to become our formula. \n",
    "\n",
    "**Replacing outliers**\n",
    "    After speaking with professor Tao we realized that it was vitally important that we replaced our outliers. We decided that any values outside of the 3Q would be replaced by the value of the 3Q at the upper range of our values. At the lower range of our values, any value that was below our Q1 would be replaced by the Q1. \n",
    "    \n",
    "**Finding Z-Scores of Columns**\n",
    "    This allowed us to find out the skewdness of our columns. With our columns that were extrmely skewed we tried to normalize our data. We did this by either squaring or applying the cube route to the data. \n",
    "    \n",
    "**Visual**\n",
    "    We created visual charts to look at the data. We used the boxplot graphs for each of our columns to create a visual chart. \n",
    "    \n",
    "**Improving our results** \n",
    "    We decided that we should use the Z-Scores from our data instead of the median and the mode. This was to try to improve our results. \n",
    "    \n",
    "**Reintroducing Industry Variable**\n",
    "    We grouped our industry variables using GICS standards. We found a document online that helped us greatly with this. All of the columns that we couldn't catagorize were put into one single catagory."
   ]
  },
  {
   "cell_type": "code",
   "execution_count": null,
   "metadata": {},
   "outputs": [],
   "source": []
  }
 ],
 "metadata": {
  "kernelspec": {
   "display_name": "Python 3",
   "language": "python",
   "name": "python3"
  },
  "language_info": {
   "codemirror_mode": {
    "name": "ipython",
    "version": 3
   },
   "file_extension": ".py",
   "mimetype": "text/x-python",
   "name": "python",
   "nbconvert_exporter": "python",
   "pygments_lexer": "ipython3",
   "version": "3.6.5"
  }
 },
 "nbformat": 4,
 "nbformat_minor": 2
}
